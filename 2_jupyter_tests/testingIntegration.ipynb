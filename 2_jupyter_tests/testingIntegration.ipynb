{
 "cells": [
  {
   "cell_type": "markdown",
   "metadata": {},
   "source": [
    "# Testing of Python classes with Jupyter Notebook\n",
    "\n",
    "## Die Environment Variablen für AWS:\n",
    "- AWS_ACCESS_KEY_ID\n",
    "- AWS_SECRET_ACCESS_KEY\n",
    "\n",
    "## Die Environment Variablen für AIR data query:\n",
    "- AIR_QUALITY_API_TOKEN\n",
    "\n",
    "### For local check make a copy of 0_config/credentialsTemplate and rename it to credentials (file ignore by git)"
   ]
  },
  {
   "cell_type": "code",
   "execution_count": 1,
   "metadata": {},
   "outputs": [],
   "source": [
    "basePath = \"../\""
   ]
  },
  {
   "cell_type": "code",
   "execution_count": 2,
   "metadata": {},
   "outputs": [
    {
     "output_type": "execute_result",
     "data": {
      "text/plain": "['.gitignore',\n 'agg_gmap_supermarket_score.py',\n 'requirements.txt',\n 'hystreet_stations_map.py',\n 'station_means.csv',\n 'agg_gmap_transit_score.py',\n 'aggregator.py',\n 'hystreet_export.csv',\n 'export.py',\n 'agg_zugdaten.py',\n 'super_export.py',\n 'settings.py',\n 'buildspec.yml',\n 'agg_airquality.py',\n 'zuordnung_plz_ort_landkreis.csv',\n 'coords_to_kreis.py',\n 'agg_hystreet.py',\n 'agg_fahrrad.py',\n 'aggregate.csv',\n 'agg_lemgo_digital.py',\n 'export.csv',\n 'agg_webcam.py',\n '__init__.py',\n 'stations_with_ags.csv',\n 'hystreet_export.py',\n 'test.csv',\n 'agg_tomtom.py',\n 'agg_parkhaeuser.py']"
     },
     "metadata": {},
     "execution_count": 2
    }
   ],
   "source": [
    "# Check the base directory\n",
    "from os import listdir\n",
    "from os.path import isfile, join\n",
    "mypath = basePath\n",
    "onlyfiles = [f for f in listdir(mypath) if isfile(join(mypath, f))]\n",
    "onlyfiles"
   ]
  },
  {
   "cell_type": "code",
   "execution_count": 3,
   "metadata": {},
   "outputs": [],
   "source": [
    "import sys\n",
    "import os\n",
    "sys.path.insert(0,basePath+\"./1_classes/\")\n",
    "\n",
    "import Aggregation\n",
    "import S3"
   ]
  },
  {
   "cell_type": "code",
   "execution_count": 4,
   "metadata": {},
   "outputs": [],
   "source": [
    "from CredentialsManager import importCredentialsToEnvironment\n",
    "\n",
    "importCredentialsToEnvironment(basePath)"
   ]
  },
  {
   "cell_type": "markdown",
   "metadata": {},
   "source": [
    "## Test reading process and aggregation"
   ]
  },
  {
   "cell_type": "code",
   "execution_count": 5,
   "metadata": {
    "tags": [
     "outputPrepend",
     "outputPrepend",
     "outputPrepend",
     "outputPrepend",
     "outputPrepend",
     "outputPrepend",
     "outputPrepend"
    ]
   },
   "outputs": [
    {
     "output_type": "stream",
     "name": "stdout",
     "text": "Objects: Found 15 elements\nObjects: Found 1 elements\nObjects: Found 1 elements\nObjects: Found 1 elements\nObjects: Found 1 elements\nObjects: Found 1 elements\nObjects: Found 1 elements\nObjects: Found 1 elements\nObjects: Found 1 elements\nObjects: Found 1 elements\nObjects: Found 1 elements\nObjects: Found 1 elements\nObjects: Found 1 elements\nObjects: Found 1 elements\nObjects: Found 1 elements\nObjects: Found 1 elements\nAll files have been read\n"
    }
   ],
   "source": [
    "import pandas as pd\n",
    "from datetime import datetime\n",
    "s3Handler = S3.S3_Handler()\n",
    "listOfFile = s3Handler.listFromAWS(\"airquality\", datetime.now())\n",
    "fullData = []\n",
    "count = 0\n",
    "for pathItem in listOfFile:\n",
    "    jsonItem = s3Handler.readFromAWS(pathItem)\n",
    "    if jsonItem != False:\n",
    "        fullData = fullData + jsonItem\n",
    "        count += 1\n",
    "if len(listOfFile)==count:\n",
    "    print(\"All files have been read\")\n",
    "else:\n",
    "    print(\"Not all files have been read\")"
   ]
  },
  {
   "cell_type": "code",
   "execution_count": 6,
   "metadata": {},
   "outputs": [
    {
     "output_type": "stream",
     "name": "stdout",
     "text": "airquality.aqi\nBoth aggregation process returns the same result\n"
    }
   ],
   "source": [
    "jsonAgg = Aggregation.Aggregator.aggregateJson(fullData,\"airquality\",\"aqi\",\"airquality_score\")\n",
    "dfAgg = Aggregation.Aggregator.aggregateDf(pd.json_normalize(fullData),\"airquality\",\"aqi\",\"airquality_score\")\n",
    "if jsonAgg == dfAgg:\n",
    "    print(\"Both aggregation process returns the same result\")\n",
    "else:\n",
    "    print(\"Both aggregation process returns a different result\")"
   ]
  },
  {
   "cell_type": "code",
   "execution_count": null,
   "metadata": {},
   "outputs": [],
   "source": []
  }
 ],
 "metadata": {
  "kernelspec": {
   "display_name": "Python 3",
   "language": "python",
   "name": "python3"
  },
  "language_info": {
   "codemirror_mode": {
    "name": "ipython",
    "version": 3
   },
   "file_extension": ".py",
   "mimetype": "text/x-python",
   "name": "python",
   "nbconvert_exporter": "python",
   "pygments_lexer": "ipython3",
   "version": "3.6.9-final"
  }
 },
 "nbformat": 4,
 "nbformat_minor": 2
}