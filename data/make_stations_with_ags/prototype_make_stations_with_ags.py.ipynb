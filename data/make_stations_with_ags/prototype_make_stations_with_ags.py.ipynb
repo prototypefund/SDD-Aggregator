{
 "cells": [
  {
   "cell_type": "markdown",
   "metadata": {},
   "source": [
    "# make_stations_with_ags prototype\n",
    "Prototype for the script"
   ]
  },
  {
   "cell_type": "code",
   "execution_count": 1,
   "metadata": {},
   "outputs": [],
   "source": [
    "'''\n",
    "This script is used to create the stations_with_ags.csv\n",
    "for the hystreet aggregator. Needs to be run only when\n",
    "new stations are added.\n",
    "'''\n",
    "\n",
    "import os\n",
    "import requests\n",
    "\n",
    "\n",
    "\n",
    "# Get Hystreet Locations\n",
    "headers = {'Content-Type': 'application/json',\n",
    "           'X-API-Token': os.getenv('HYSTREET_TOKEN')}\n",
    "res = requests.get('https://hystreet.com/api/locations/', headers=headers)\n",
    "locations = res.json()\n",
    "\n"
   ]
  },
  {
   "cell_type": "code",
   "execution_count": 2,
   "metadata": {},
   "outputs": [
    {
     "name": "stderr",
     "output_type": "stream",
     "text": [
      "100%|████████████████████████████████████████████████████████████████████████████████| 127/127 [01:06<00:00,  1.92it/s]\n"
     ]
    }
   ],
   "source": [
    "# Search Lat/Lon for Hystreet Locations\n",
    "\n",
    "from geopy.geocoders import Nominatim\n",
    "from tqdm import tqdm\n",
    "\n",
    "geolocator = Nominatim(user_agent=\"everyonecounts\")\n",
    "for location in tqdm(locations):\n",
    "    query = location[\"city\"]+\" \"+location[\"name\"].split(\"(\")[0]\n",
    "    geoloc = geolocator.geocode(query,exactly_one=True)\n",
    "    if geoloc==None and \"seite\" in query:\n",
    "        # Berlin Kurfürstendamm Nordseite --> Berlin Kurfürstendamm\n",
    "        query2 = query.replace(\"Nordseite\",\"\").replace(\"Ostseite\",\"\").replace(\"Südseite\",\"\").replace(\"Westseite\",\"\").split(\"(\")[0]\n",
    "        geoloc = geolocator.geocode(query2,exactly_one=True)\n",
    "    if geoloc==None:\n",
    "        print(\"!!! NOT FOUND: \",query,query2)\n",
    "        location[\"lat\"]=None\n",
    "        location[\"lon\"]=None\n",
    "        location[\"address\"]=None\n",
    "    else:\n",
    "        #print(query,\"==>\",geoloc.address)\n",
    "        location[\"lat\"]=geoloc.latitude\n",
    "        location[\"lon\"]=geoloc.longitude\n",
    "        location[\"address\"]=geoloc.address"
   ]
  },
  {
   "cell_type": "code",
   "execution_count": 7,
   "metadata": {},
   "outputs": [
    {
     "name": "stderr",
     "output_type": "stream",
     "text": [
      "C:\\Users\\Michael\\miniconda3\\lib\\site-packages\\geopandas\\tools\\sjoin.py:61: UserWarning: CRS of frames being joined does not match!(None != {})\n",
      "  \"(%s != %s)\" % (left_df.crs, right_df.crs)\n"
     ]
    }
   ],
   "source": [
    "import sys\n",
    "import pandas as pd\n",
    "sys.path.append('../../')\n",
    "from coords_to_kreis import coords_convert\n",
    "df_locations = pd.DataFrame(locations)\n",
    "df_locations['landkreis'] = coords_convert(df_locations)"
   ]
  },
  {
   "cell_type": "code",
   "execution_count": 6,
   "metadata": {},
   "outputs": [],
   "source": [
    "# Write output to file\n",
    "outfile = \"stations_with_ags.csv\"\n",
    "df_locations = df_locations[[\"id\",\"name\",\"city\",\"landkreis\",\"lat\",\"lon\"]]\n",
    "df_locations = df_locations.sort_values(by=\"id\")\n",
    "df_locations = df_locations.rename(columns={'id':'stationid'})\n",
    "df_locations.to_csv(outfile, index=False)"
   ]
  },
  {
   "cell_type": "markdown",
   "metadata": {},
   "source": [
    "\n",
    "# Validation"
   ]
  },
  {
   "cell_type": "markdown",
   "metadata": {},
   "source": [
    "## Validate data\n",
    "Test by how much old and new station positions differ"
   ]
  },
  {
   "cell_type": "markdown",
   "metadata": {},
   "source": [
    "### Load data"
   ]
  },
  {
   "cell_type": "code",
   "execution_count": 88,
   "metadata": {},
   "outputs": [
    {
     "name": "stdout",
     "output_type": "stream",
     "text": [
      "--------------\n",
      "OLD FILE:\n"
     ]
    },
    {
     "data": {
      "text/html": [
       "<div>\n",
       "<style scoped>\n",
       "    .dataframe tbody tr th:only-of-type {\n",
       "        vertical-align: middle;\n",
       "    }\n",
       "\n",
       "    .dataframe tbody tr th {\n",
       "        vertical-align: top;\n",
       "    }\n",
       "\n",
       "    .dataframe thead th {\n",
       "        text-align: right;\n",
       "    }\n",
       "</style>\n",
       "<table border=\"1\" class=\"dataframe\">\n",
       "  <thead>\n",
       "    <tr style=\"text-align: right;\">\n",
       "      <th></th>\n",
       "      <th>stationid</th>\n",
       "      <th>lon</th>\n",
       "      <th>lat</th>\n",
       "      <th>ags</th>\n",
       "      <th>distanceinmeters</th>\n",
       "    </tr>\n",
       "  </thead>\n",
       "  <tbody>\n",
       "    <tr>\n",
       "      <th>count</th>\n",
       "      <td>117.000000</td>\n",
       "      <td>117.000000</td>\n",
       "      <td>117.000000</td>\n",
       "      <td>1.170000e+02</td>\n",
       "      <td>117.000000</td>\n",
       "    </tr>\n",
       "    <tr>\n",
       "      <th>mean</th>\n",
       "      <td>127.111111</td>\n",
       "      <td>8.971354</td>\n",
       "      <td>50.936013</td>\n",
       "      <td>3.192945e+06</td>\n",
       "      <td>710.405872</td>\n",
       "    </tr>\n",
       "    <tr>\n",
       "      <th>std</th>\n",
       "      <td>55.872512</td>\n",
       "      <td>1.825708</td>\n",
       "      <td>1.561711</td>\n",
       "      <td>3.901324e+06</td>\n",
       "      <td>540.968477</td>\n",
       "    </tr>\n",
       "    <tr>\n",
       "      <th>min</th>\n",
       "      <td>47.000000</td>\n",
       "      <td>6.091435</td>\n",
       "      <td>47.994755</td>\n",
       "      <td>2.000000e+03</td>\n",
       "      <td>5.681937</td>\n",
       "    </tr>\n",
       "    <tr>\n",
       "      <th>25%</th>\n",
       "      <td>84.000000</td>\n",
       "      <td>7.461371</td>\n",
       "      <td>49.795161</td>\n",
       "      <td>5.711000e+03</td>\n",
       "      <td>281.143654</td>\n",
       "    </tr>\n",
       "    <tr>\n",
       "      <th>50%</th>\n",
       "      <td>123.000000</td>\n",
       "      <td>8.574648</td>\n",
       "      <td>51.044405</td>\n",
       "      <td>1.003000e+06</td>\n",
       "      <td>612.612593</td>\n",
       "    </tr>\n",
       "    <tr>\n",
       "      <th>75%</th>\n",
       "      <td>159.000000</td>\n",
       "      <td>10.083537</td>\n",
       "      <td>52.263388</td>\n",
       "      <td>5.774032e+06</td>\n",
       "      <td>923.236858</td>\n",
       "    </tr>\n",
       "    <tr>\n",
       "      <th>max</th>\n",
       "      <td>254.000000</td>\n",
       "      <td>13.735441</td>\n",
       "      <td>54.784319</td>\n",
       "      <td>1.471300e+07</td>\n",
       "      <td>2424.485250</td>\n",
       "    </tr>\n",
       "  </tbody>\n",
       "</table>\n",
       "</div>"
      ],
      "text/plain": [
       "        stationid         lon         lat           ags  distanceinmeters\n",
       "count  117.000000  117.000000  117.000000  1.170000e+02        117.000000\n",
       "mean   127.111111    8.971354   50.936013  3.192945e+06        710.405872\n",
       "std     55.872512    1.825708    1.561711  3.901324e+06        540.968477\n",
       "min     47.000000    6.091435   47.994755  2.000000e+03          5.681937\n",
       "25%     84.000000    7.461371   49.795161  5.711000e+03        281.143654\n",
       "50%    123.000000    8.574648   51.044405  1.003000e+06        612.612593\n",
       "75%    159.000000   10.083537   52.263388  5.774032e+06        923.236858\n",
       "max    254.000000   13.735441   54.784319  1.471300e+07       2424.485250"
      ]
     },
     "metadata": {},
     "output_type": "display_data"
    },
    {
     "name": "stdout",
     "output_type": "stream",
     "text": [
      "Index(['name', 'city', 'stationid', 'lon', 'lat', 'earliest_measurement_at',\n",
      "       'latest_measurement_at', 'ags', 'ascii', 'distanceinmeters'],\n",
      "      dtype='object')\n",
      "--------------\n",
      "NEW FILE:\n"
     ]
    },
    {
     "data": {
      "text/html": [
       "<div>\n",
       "<style scoped>\n",
       "    .dataframe tbody tr th:only-of-type {\n",
       "        vertical-align: middle;\n",
       "    }\n",
       "\n",
       "    .dataframe tbody tr th {\n",
       "        vertical-align: top;\n",
       "    }\n",
       "\n",
       "    .dataframe thead th {\n",
       "        text-align: right;\n",
       "    }\n",
       "</style>\n",
       "<table border=\"1\" class=\"dataframe\">\n",
       "  <thead>\n",
       "    <tr style=\"text-align: right;\">\n",
       "      <th></th>\n",
       "      <th>stationid</th>\n",
       "      <th>ags</th>\n",
       "      <th>lat</th>\n",
       "      <th>lon</th>\n",
       "      <th>distance_m</th>\n",
       "    </tr>\n",
       "  </thead>\n",
       "  <tbody>\n",
       "    <tr>\n",
       "      <th>count</th>\n",
       "      <td>127.000000</td>\n",
       "      <td>1.270000e+02</td>\n",
       "      <td>127.000000</td>\n",
       "      <td>127.000000</td>\n",
       "      <td>127.000000</td>\n",
       "    </tr>\n",
       "    <tr>\n",
       "      <th>mean</th>\n",
       "      <td>131.866142</td>\n",
       "      <td>4.810596e+06</td>\n",
       "      <td>51.025878</td>\n",
       "      <td>8.956859</td>\n",
       "      <td>987.937008</td>\n",
       "    </tr>\n",
       "    <tr>\n",
       "      <th>std</th>\n",
       "      <td>61.223551</td>\n",
       "      <td>3.773963e+06</td>\n",
       "      <td>1.572162</td>\n",
       "      <td>1.845314</td>\n",
       "      <td>801.949725</td>\n",
       "    </tr>\n",
       "    <tr>\n",
       "      <th>min</th>\n",
       "      <td>47.000000</td>\n",
       "      <td>1.003000e+03</td>\n",
       "      <td>47.991972</td>\n",
       "      <td>6.092855</td>\n",
       "      <td>83.000000</td>\n",
       "    </tr>\n",
       "    <tr>\n",
       "      <th>25%</th>\n",
       "      <td>84.500000</td>\n",
       "      <td>1.001500e+06</td>\n",
       "      <td>49.882458</td>\n",
       "      <td>7.305260</td>\n",
       "      <td>356.000000</td>\n",
       "    </tr>\n",
       "    <tr>\n",
       "      <th>50%</th>\n",
       "      <td>125.000000</td>\n",
       "      <td>5.124000e+06</td>\n",
       "      <td>51.224626</td>\n",
       "      <td>8.578640</td>\n",
       "      <td>815.000000</td>\n",
       "    </tr>\n",
       "    <tr>\n",
       "      <th>75%</th>\n",
       "      <td>162.500000</td>\n",
       "      <td>6.872004e+06</td>\n",
       "      <td>52.263998</td>\n",
       "      <td>10.043159</td>\n",
       "      <td>1203.500000</td>\n",
       "    </tr>\n",
       "    <tr>\n",
       "      <th>max</th>\n",
       "      <td>261.000000</td>\n",
       "      <td>1.605100e+07</td>\n",
       "      <td>54.784201</td>\n",
       "      <td>13.735514</td>\n",
       "      <td>3771.000000</td>\n",
       "    </tr>\n",
       "  </tbody>\n",
       "</table>\n",
       "</div>"
      ],
      "text/plain": [
       "        stationid           ags         lat         lon   distance_m\n",
       "count  127.000000  1.270000e+02  127.000000  127.000000   127.000000\n",
       "mean   131.866142  4.810596e+06   51.025878    8.956859   987.937008\n",
       "std     61.223551  3.773963e+06    1.572162    1.845314   801.949725\n",
       "min     47.000000  1.003000e+03   47.991972    6.092855    83.000000\n",
       "25%     84.500000  1.001500e+06   49.882458    7.305260   356.000000\n",
       "50%    125.000000  5.124000e+06   51.224626    8.578640   815.000000\n",
       "75%    162.500000  6.872004e+06   52.263998   10.043159  1203.500000\n",
       "max    261.000000  1.605100e+07   54.784201   13.735514  3771.000000"
      ]
     },
     "metadata": {},
     "output_type": "display_data"
    },
    {
     "name": "stdout",
     "output_type": "stream",
     "text": [
      "Index(['stationid', 'name', 'city', 'ags', 'lat', 'lon', 'address',\n",
      "       'distance_m'],\n",
      "      dtype='object')\n"
     ]
    }
   ],
   "source": [
    "import pandas as pd\n",
    "from IPython.display import display\n",
    "\n",
    "file1 = \"../stations_with_ags.csv\"\n",
    "file2 = \"stations_with_ags.csv\"\n",
    "\n",
    "with open(file1,\"r\") as f:\n",
    "    df1 = pd.read_csv(f)\n",
    "with open(file2,\"r\") as f:\n",
    "    df2 = pd.read_csv(f)\n",
    "df = df1.join(df2, on=\"stationid\", how='left', lsuffix='old', rsuffix='new', sort=False)\n",
    "print(\"--------------\\nOLD FILE:\")\n",
    "display(df1.describe())\n",
    "print(df1.keys())\n",
    "print(\"--------------\\nNEW FILE:\")\n",
    "display(df2.describe())\n",
    "print(df2.keys())"
   ]
  },
  {
   "cell_type": "markdown",
   "metadata": {},
   "source": [
    "### Distances\n",
    "Calculate distances in meter between old and new positions:"
   ]
  },
  {
   "cell_type": "code",
   "execution_count": 89,
   "metadata": {},
   "outputs": [
    {
     "data": {
      "text/plain": [
       "count     121.000000\n",
       "mean      339.768499\n",
       "std      1267.045401\n",
       "min         1.412466\n",
       "25%        43.974709\n",
       "50%        97.141962\n",
       "75%       187.154503\n",
       "max      9687.414294\n",
       "Name: distance, dtype: float64"
      ]
     },
     "execution_count": 89,
     "metadata": {},
     "output_type": "execute_result"
    }
   ],
   "source": [
    "from geopy import distance\n",
    "merged = df1.merge(df2, on=\"stationid\")\n",
    "merged[\"distance\"] = merged.apply(lambda x: distance.distance( (x[\"lat_x\"],x[\"lon_x\"]), (x[\"lat_y\"],x[\"lon_y\"]) ), axis=1)\n",
    "merged[\"distance\"] = merged.apply(lambda x: x[\"distance\"].m, 1) # distance in meter\n",
    "merged[\"distance\"].describe()"
   ]
  }
 ],
 "metadata": {
  "kernelspec": {
   "display_name": "Python 3",
   "language": "python",
   "name": "python3"
  },
  "language_info": {
   "codemirror_mode": {
    "name": "ipython",
    "version": 3
   },
   "file_extension": ".py",
   "mimetype": "text/x-python",
   "name": "python",
   "nbconvert_exporter": "python",
   "pygments_lexer": "ipython3",
   "version": "3.7.6"
  },
  "toc": {
   "base_numbering": 1,
   "nav_menu": {},
   "number_sections": true,
   "sideBar": true,
   "skip_h1_title": false,
   "title_cell": "Table of Contents",
   "title_sidebar": "Contents",
   "toc_cell": false,
   "toc_position": {},
   "toc_section_display": true,
   "toc_window_display": false
  },
  "varInspector": {
   "cols": {
    "lenName": 16,
    "lenType": 16,
    "lenVar": 40
   },
   "kernels_config": {
    "python": {
     "delete_cmd_postfix": "",
     "delete_cmd_prefix": "del ",
     "library": "var_list.py",
     "varRefreshCmd": "print(var_dic_list())"
    },
    "r": {
     "delete_cmd_postfix": ") ",
     "delete_cmd_prefix": "rm(",
     "library": "var_list.r",
     "varRefreshCmd": "cat(var_dic_list()) "
    }
   },
   "types_to_exclude": [
    "module",
    "function",
    "builtin_function_or_method",
    "instance",
    "_Feature"
   ],
   "window_display": false
  }
 },
 "nbformat": 4,
 "nbformat_minor": 4
}
